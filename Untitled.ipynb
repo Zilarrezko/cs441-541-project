{
 "cells": [
  {
   "cell_type": "code",
   "execution_count": 2,
   "id": "speaking-hampshire",
   "metadata": {},
   "outputs": [],
   "source": [
    "import numpy as np\n",
    "import random\n",
    "from group_project.card import Card"
   ]
  },
  {
   "cell_type": "code",
   "execution_count": 21,
   "id": "growing-holmes",
   "metadata": {},
   "outputs": [],
   "source": [
    "def hand_value(hand: list):\n",
    "    total_value = 0\n",
    "    num_aces = 0\n",
    "    \n",
    "    for card in hand:\n",
    "        if card.value == 1:\n",
    "            num_aces += 1\n",
    "            continue\n",
    "        total_value += min(card.value, 10)\n",
    "    while num_aces > 0:\n",
    "        \n",
    "        if total_value + 11 > 21:\n",
    "            total_value += 1\n",
    "        else:\n",
    "            total_value += 11\n",
    "        num_aces -= 1\n",
    "    return total_value"
   ]
  },
  {
   "cell_type": "code",
   "execution_count": 24,
   "id": "super-texas",
   "metadata": {},
   "outputs": [],
   "source": [
    "hand = [Card(1, 1), Card(1,2), Card(1,3), Card(1,4)]"
   ]
  },
  {
   "cell_type": "code",
   "execution_count": 25,
   "id": "lined-equivalent",
   "metadata": {},
   "outputs": [
    {
     "data": {
      "text/plain": [
       "14"
      ]
     },
     "execution_count": 25,
     "metadata": {},
     "output_type": "execute_result"
    }
   ],
   "source": [
    "hand_value(hand)"
   ]
  },
  {
   "cell_type": "code",
   "execution_count": 26,
   "id": "single-ireland",
   "metadata": {},
   "outputs": [],
   "source": [
    "def blackjack_hand_value(hand, start: int = 0) -> int:\n",
    "    result = 0;\n",
    "    one = 0;\n",
    "    eleven = 0;\n",
    "    for card in hand:\n",
    "        val = min(card.value, 10);\n",
    "        if val == 1: # ace\n",
    "            one += 1;\n",
    "            eleven += 11;\n",
    "        else:\n",
    "            one += val;\n",
    "            eleven += val;\n",
    "    if eleven > 21:\n",
    "        result = one;\n",
    "    else:\n",
    "        result = eleven;\n",
    "    return result"
   ]
  },
  {
   "cell_type": "code",
   "execution_count": 27,
   "id": "vulnerable-arrest",
   "metadata": {},
   "outputs": [
    {
     "data": {
      "text/plain": [
       "4"
      ]
     },
     "execution_count": 27,
     "metadata": {},
     "output_type": "execute_result"
    }
   ],
   "source": [
    "blackjack_hand_value(hand)"
   ]
  },
  {
   "cell_type": "code",
   "execution_count": null,
   "id": "turkish-excess",
   "metadata": {},
   "outputs": [],
   "source": []
  }
 ],
 "metadata": {
  "kernelspec": {
   "display_name": "Python 3",
   "language": "python",
   "name": "python3"
  },
  "language_info": {
   "codemirror_mode": {
    "name": "ipython",
    "version": 3
   },
   "file_extension": ".py",
   "mimetype": "text/x-python",
   "name": "python",
   "nbconvert_exporter": "python",
   "pygments_lexer": "ipython3",
   "version": "3.9.1"
  }
 },
 "nbformat": 4,
 "nbformat_minor": 5
}
