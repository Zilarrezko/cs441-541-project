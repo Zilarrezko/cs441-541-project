{
 "cells": [
  {
   "cell_type": "code",
   "execution_count": 1,
   "id": "638e3aec-1b4f-44d4-a05d-f834c11ecbac",
   "metadata": {},
   "outputs": [
    {
     "ename": "IndentationError",
     "evalue": "unindent does not match any outer indentation level (blackjack.py, line 134)",
     "output_type": "error",
     "traceback": [
      "Traceback \u001b[0;36m(most recent call last)\u001b[0m:\n",
      "  File \u001b[1;32m\"/Users/jackcan/miniconda3/envs/rl/lib/python3.9/site-packages/IPython/core/interactiveshell.py\"\u001b[0m, line \u001b[1;32m3444\u001b[0m, in \u001b[1;35mrun_code\u001b[0m\n    exec(code_obj, self.user_global_ns, self.user_ns)\n",
      "\u001b[0;36m  File \u001b[0;32m\"/var/folders/rb/ts1v3zwd2zlf3f4x1s5kdhz40000gp/T/ipykernel_62846/2737808862.py\"\u001b[0;36m, line \u001b[0;32m5\u001b[0;36m, in \u001b[0;35m<module>\u001b[0;36m\u001b[0m\n\u001b[0;31m    from blackjack import blackjack_train_agent, blackjack_test_agent\u001b[0m\n",
      "\u001b[0;36m  File \u001b[0;32m\"/Users/jackcan/repos/cs441-541-project/blackjack.py\"\u001b[0;36m, line \u001b[0;32m134\u001b[0m\n\u001b[0;31m    data.append({\u001b[0m\n\u001b[0m                 ^\u001b[0m\n\u001b[0;31mIndentationError\u001b[0m\u001b[0;31m:\u001b[0m unindent does not match any outer indentation level\n"
     ]
    }
   ],
   "source": [
    "from random import randint, random\n",
    "from card import Card\n",
    "from game_state import GameState\n",
    "from player import Player\n",
    "from blackjack import blackjack_train_agent, blackjack_test_agent"
   ]
  },
  {
   "cell_type": "markdown",
   "id": "e5d1697a-dd34-4cc0-a943-e4400ea38e12",
   "metadata": {},
   "source": [
    "## GameState"
   ]
  },
  {
   "cell_type": "code",
   "execution_count": 2,
   "id": "a9ca91f1-cdb8-49f1-a795-4cbc61bc81f0",
   "metadata": {},
   "outputs": [],
   "source": [
    "state = GameState(1, 2)"
   ]
  },
  {
   "cell_type": "code",
   "execution_count": 4,
   "id": "8954d006-cc09-4171-be52-e223fbdc73d0",
   "metadata": {
    "collapsed": true,
    "jupyter": {
     "outputs_hidden": true
    },
    "tags": []
   },
   "outputs": [
    {
     "data": {
      "text/plain": [
       "['__class__',\n",
       " '__delattr__',\n",
       " '__dict__',\n",
       " '__dir__',\n",
       " '__doc__',\n",
       " '__eq__',\n",
       " '__format__',\n",
       " '__ge__',\n",
       " '__getattribute__',\n",
       " '__gt__',\n",
       " '__hash__',\n",
       " '__init__',\n",
       " '__init_subclass__',\n",
       " '__le__',\n",
       " '__lt__',\n",
       " '__module__',\n",
       " '__ne__',\n",
       " '__new__',\n",
       " '__reduce__',\n",
       " '__reduce_ex__',\n",
       " '__repr__',\n",
       " '__setattr__',\n",
       " '__sizeof__',\n",
       " '__str__',\n",
       " '__subclasshook__',\n",
       " '__weakref__',\n",
       " '_dealer',\n",
       " '_deck',\n",
       " '_deck_count',\n",
       " '_draw_count',\n",
       " '_loss_count',\n",
       " '_player_count',\n",
       " '_players',\n",
       " '_win_count',\n",
       " 'deck',\n",
       " 'deck_count',\n",
       " 'draw_card',\n",
       " 'draw_count',\n",
       " 'inc_draw',\n",
       " 'inc_loss',\n",
       " 'inc_win',\n",
       " 'loss_count',\n",
       " 'player_count',\n",
       " 'players',\n",
       " 'reset',\n",
       " 'shuffle_deck',\n",
       " 'win_count']"
      ]
     },
     "execution_count": 4,
     "metadata": {},
     "output_type": "execute_result"
    }
   ],
   "source": [
    "dir(state)"
   ]
  },
  {
   "cell_type": "code",
   "execution_count": 6,
   "id": "86c044b3-72a3-42f6-a453-80e76cd2182d",
   "metadata": {},
   "outputs": [
    {
     "data": {
      "text/plain": [
       "list"
      ]
     },
     "execution_count": 6,
     "metadata": {},
     "output_type": "execute_result"
    }
   ],
   "source": [
    "type(state.deck)"
   ]
  },
  {
   "cell_type": "code",
   "execution_count": 14,
   "id": "64807d9f-952d-44ce-b9c7-bebd8c3f4a0a",
   "metadata": {},
   "outputs": [
    {
     "data": {
      "text/plain": [
       "[<player.Player at 0x7f8542ffc070>, <player.Player at 0x7f8542fb6a60>]"
      ]
     },
     "execution_count": 14,
     "metadata": {},
     "output_type": "execute_result"
    }
   ],
   "source": [
    "state.players"
   ]
  },
  {
   "cell_type": "markdown",
   "id": "b48ca487-d261-4f0f-9201-6a1960890251",
   "metadata": {},
   "source": [
    "## Card"
   ]
  },
  {
   "cell_type": "code",
   "execution_count": 9,
   "id": "883d0060-acde-4957-a6df-9be09b2e880e",
   "metadata": {
    "collapsed": true,
    "jupyter": {
     "outputs_hidden": true
    },
    "tags": []
   },
   "outputs": [
    {
     "data": {
      "text/plain": [
       "['__class__',\n",
       " '__delattr__',\n",
       " '__dict__',\n",
       " '__dir__',\n",
       " '__doc__',\n",
       " '__eq__',\n",
       " '__format__',\n",
       " '__ge__',\n",
       " '__getattribute__',\n",
       " '__gt__',\n",
       " '__hash__',\n",
       " '__init__',\n",
       " '__init_subclass__',\n",
       " '__le__',\n",
       " '__lt__',\n",
       " '__module__',\n",
       " '__ne__',\n",
       " '__new__',\n",
       " '__reduce__',\n",
       " '__reduce_ex__',\n",
       " '__repr__',\n",
       " '__setattr__',\n",
       " '__sizeof__',\n",
       " '__str__',\n",
       " '__subclasshook__',\n",
       " '__weakref__',\n",
       " '_id',\n",
       " '_suit',\n",
       " 'name',\n",
       " 'suit',\n",
       " 'suit_name',\n",
       " 'value']"
      ]
     },
     "execution_count": 9,
     "metadata": {},
     "output_type": "execute_result"
    }
   ],
   "source": [
    "card = state.deck[0]\n",
    "dir(card)"
   ]
  },
  {
   "cell_type": "code",
   "execution_count": 12,
   "id": "9af7912a-ce69-41cf-b880-ccdf02569b9a",
   "metadata": {},
   "outputs": [
    {
     "name": "stdout",
     "output_type": "stream",
     "text": [
      "A 0 ♦ 1\n"
     ]
    }
   ],
   "source": [
    "print(card.name, card.suit, card.suit_name, card.value)"
   ]
  },
  {
   "cell_type": "code",
   "execution_count": 11,
   "id": "a68e3b3c-5141-43a3-be3a-1175f3a2f0e0",
   "metadata": {},
   "outputs": [
    {
     "data": {
      "text/plain": [
       "'A'"
      ]
     },
     "execution_count": 11,
     "metadata": {},
     "output_type": "execute_result"
    }
   ],
   "source": [
    "card.name"
   ]
  },
  {
   "cell_type": "code",
   "execution_count": 11,
   "id": "7edd43fb-e742-4437-849e-cc76d853d7b1",
   "metadata": {},
   "outputs": [
    {
     "data": {
      "text/plain": [
       "'A'"
      ]
     },
     "execution_count": 11,
     "metadata": {},
     "output_type": "execute_result"
    }
   ],
   "source": [
    "card.name"
   ]
  },
  {
   "cell_type": "code",
   "execution_count": 11,
   "id": "a4f3393a-7864-4b40-872a-53e18f3c649e",
   "metadata": {},
   "outputs": [
    {
     "data": {
      "text/plain": [
       "'A'"
      ]
     },
     "execution_count": 11,
     "metadata": {},
     "output_type": "execute_result"
    }
   ],
   "source": [
    "card.name"
   ]
  },
  {
   "cell_type": "markdown",
   "id": "af8068ab-8934-40a9-991c-34306588fcf6",
   "metadata": {},
   "source": [
    "## Player"
   ]
  },
  {
   "cell_type": "code",
   "execution_count": 15,
   "id": "761d756d-fce0-49dd-b3d1-6b88d5c9fc9e",
   "metadata": {},
   "outputs": [],
   "source": [
    "player = state.players[0]"
   ]
  },
  {
   "cell_type": "code",
   "execution_count": 16,
   "id": "8a051949-0abd-4afa-a874-2e25071aa630",
   "metadata": {
    "collapsed": true,
    "jupyter": {
     "outputs_hidden": true
    },
    "tags": []
   },
   "outputs": [
    {
     "data": {
      "text/plain": [
       "['__class__',\n",
       " '__delattr__',\n",
       " '__dict__',\n",
       " '__dir__',\n",
       " '__doc__',\n",
       " '__eq__',\n",
       " '__format__',\n",
       " '__ge__',\n",
       " '__getattribute__',\n",
       " '__gt__',\n",
       " '__hash__',\n",
       " '__init__',\n",
       " '__init_subclass__',\n",
       " '__le__',\n",
       " '__lt__',\n",
       " '__module__',\n",
       " '__ne__',\n",
       " '__new__',\n",
       " '__reduce__',\n",
       " '__reduce_ex__',\n",
       " '__repr__',\n",
       " '__setattr__',\n",
       " '__sizeof__',\n",
       " '__str__',\n",
       " '__subclasshook__',\n",
       " '__weakref__',\n",
       " '_hand',\n",
       " '_id',\n",
       " 'add_card',\n",
       " 'hand',\n",
       " 'id']"
      ]
     },
     "execution_count": 16,
     "metadata": {},
     "output_type": "execute_result"
    }
   ],
   "source": [
    "dir(player)"
   ]
  },
  {
   "cell_type": "code",
   "execution_count": 17,
   "id": "81dca29d-2e1e-40d1-abc5-4f91a13af6b2",
   "metadata": {},
   "outputs": [
    {
     "data": {
      "text/plain": [
       "[]"
      ]
     },
     "execution_count": 17,
     "metadata": {},
     "output_type": "execute_result"
    }
   ],
   "source": [
    "player.hand"
   ]
  },
  {
   "cell_type": "markdown",
   "id": "9023c1ba-b6cc-4f69-9a53-581f109e85b4",
   "metadata": {},
   "source": [
    "## Run simulation"
   ]
  },
  {
   "cell_type": "code",
   "execution_count": 5,
   "id": "51625ac2-e7d8-4133-bc68-2e921e06831a",
   "metadata": {},
   "outputs": [],
   "source": [
    "import numpy as np\n",
    "import pandas as pd\n",
    "import multiprocessing as mp"
   ]
  },
  {
   "cell_type": "code",
   "execution_count": 13,
   "id": "54e3a172-b0c3-47fb-ad65-36d9bf28dec4",
   "metadata": {},
   "outputs": [],
   "source": [
    "trials = [10000, 50000, 100000, 250000, 500000, 1000000]\n",
    "decks = range(1, 7)\n",
    "etas = np.arange(0.1, 0.9, 0.1)\n",
    "gammas = np.arange(0.2, 1.0, 0.1)\n",
    "epss = np.arange(0.1, 0.6, 0.1)"
   ]
  },
  {
   "cell_type": "code",
   "execution_count": 16,
   "id": "bf9a886e-4283-414f-8472-7bb16e5cc465",
   "metadata": {},
   "outputs": [
    {
     "name": "stdout",
     "output_type": "stream",
     "text": [
      "Training:\n",
      "wins: 4036\n",
      "winrate: 40.36\n"
     ]
    },
    {
     "ename": "TypeError",
     "evalue": "cannot unpack non-iterable Agent object",
     "output_type": "error",
     "traceback": [
      "\u001b[0;31m---------------------------------------------------------------------------\u001b[0m",
      "\u001b[0;31mTypeError\u001b[0m                                 Traceback (most recent call last)",
      "\u001b[0;32m/var/folders/rb/ts1v3zwd2zlf3f4x1s5kdhz40000gp/T/ipykernel_62344/2194192712.py\u001b[0m in \u001b[0;36m<module>\u001b[0;34m\u001b[0m\n\u001b[1;32m      1\u001b[0m \u001b[0mstate\u001b[0m \u001b[0;34m=\u001b[0m \u001b[0mGameState\u001b[0m\u001b[0;34m(\u001b[0m\u001b[0;36m1\u001b[0m\u001b[0;34m,\u001b[0m \u001b[0;36m2\u001b[0m\u001b[0;34m)\u001b[0m\u001b[0;34m\u001b[0m\u001b[0;34m\u001b[0m\u001b[0m\n\u001b[1;32m      2\u001b[0m \u001b[0mtrials\u001b[0m \u001b[0;34m=\u001b[0m \u001b[0;36m10000\u001b[0m\u001b[0;34m\u001b[0m\u001b[0;34m\u001b[0m\u001b[0m\n\u001b[0;32m----> 3\u001b[0;31m \u001b[0magent\u001b[0m\u001b[0;34m,\u001b[0m \u001b[0mdata\u001b[0m \u001b[0;34m=\u001b[0m \u001b[0mblackjack_train_agent\u001b[0m\u001b[0;34m(\u001b[0m\u001b[0mstate\u001b[0m\u001b[0;34m,\u001b[0m \u001b[0mtrials\u001b[0m\u001b[0;34m,\u001b[0m \u001b[0;36m0.1\u001b[0m\u001b[0;34m,\u001b[0m \u001b[0;36m0.2\u001b[0m\u001b[0;34m,\u001b[0m \u001b[0;36m0.9\u001b[0m\u001b[0;34m,\u001b[0m \u001b[0;32mFalse\u001b[0m\u001b[0;34m)\u001b[0m\u001b[0;34m\u001b[0m\u001b[0;34m\u001b[0m\u001b[0m\n\u001b[0m",
      "\u001b[0;31mTypeError\u001b[0m: cannot unpack non-iterable Agent object"
     ]
    }
   ],
   "source": [
    "state = GameState(1, 2)\n",
    "trials = 10000\n",
    "agent, data = blackjack_train_agent(state, trials, 0.1, 0.2, 0.9, False)"
   ]
  },
  {
   "cell_type": "code",
   "execution_count": 9,
   "id": "6c83977e-2b58-4ff8-a752-3447aae62e9e",
   "metadata": {},
   "outputs": [
    {
     "data": {
      "text/plain": [
       "array([0.1, 0.2, 0.3, 0.4, 0.5, 0.6, 0.7])"
      ]
     },
     "execution_count": 9,
     "metadata": {},
     "output_type": "execute_result"
    }
   ],
   "source": [
    "etas"
   ]
  },
  {
   "cell_type": "code",
   "execution_count": 12,
   "id": "2c2fd8ed-4d3c-477b-87bd-827a1085104f",
   "metadata": {},
   "outputs": [
    {
     "data": {
      "text/plain": [
       "array([0.2, 0.3, 0.4, 0.5, 0.6, 0.7, 0.8, 0.9])"
      ]
     },
     "execution_count": 12,
     "metadata": {},
     "output_type": "execute_result"
    }
   ],
   "source": [
    "gammas"
   ]
  },
  {
   "cell_type": "code",
   "execution_count": 15,
   "id": "1d13c85d-b4ff-4103-9f2b-a541a3ecb55d",
   "metadata": {},
   "outputs": [
    {
     "data": {
      "text/plain": [
       "<game_state.GameState at 0x7fc5fd8216a0>"
      ]
     },
     "execution_count": 15,
     "metadata": {},
     "output_type": "execute_result"
    }
   ],
   "source": [
    "state"
   ]
  },
  {
   "cell_type": "code",
   "execution_count": null,
   "id": "6c33a424-e8ad-4972-98c5-6403266e9f4a",
   "metadata": {},
   "outputs": [],
   "source": []
  }
 ],
 "metadata": {
  "kernelspec": {
   "display_name": "Python 3 (ipykernel)",
   "language": "python",
   "name": "python3"
  },
  "language_info": {
   "codemirror_mode": {
    "name": "ipython",
    "version": 3
   },
   "file_extension": ".py",
   "mimetype": "text/x-python",
   "name": "python",
   "nbconvert_exporter": "python",
   "pygments_lexer": "ipython3",
   "version": "3.9.7"
  }
 },
 "nbformat": 4,
 "nbformat_minor": 5
}
